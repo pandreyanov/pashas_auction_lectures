{
 "cells": [
  {
   "cell_type": "markdown",
   "id": "02e9fdfb-40a7-4554-a702-9c1352ab06ef",
   "metadata": {},
   "source": [
    "# Classic Auctions"
   ]
  },
  {
   "cell_type": "code",
   "execution_count": null,
   "id": "63bd56b9-5606-4b3b-a148-00d2e2d8122e",
   "metadata": {},
   "outputs": [],
   "source": []
  }
 ],
 "metadata": {
  "kernelspec": {
   "display_name": "py37an",
   "language": "python",
   "name": "py37an"
  },
  "language_info": {
   "codemirror_mode": {
    "name": "ipython",
    "version": 3
   },
   "file_extension": ".py",
   "mimetype": "text/x-python",
   "name": "python",
   "nbconvert_exporter": "python",
   "pygments_lexer": "ipython3",
   "version": "3.7.7"
  }
 },
 "nbformat": 4,
 "nbformat_minor": 5
}
