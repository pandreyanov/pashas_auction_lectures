{
 "cells": [
  {
   "cell_type": "code",
   "execution_count": null,
   "id": "d943d19d-58f7-4c50-a00f-2251ad8b466c",
   "metadata": {},
   "outputs": [],
   "source": [
    "# Double Auctions"
   ]
  }
 ],
 "metadata": {
  "kernelspec": {
   "display_name": "py37an",
   "language": "python",
   "name": "py37an"
  },
  "language_info": {
   "codemirror_mode": {
    "name": "ipython",
    "version": 3
   },
   "file_extension": ".py",
   "mimetype": "text/x-python",
   "name": "python",
   "nbconvert_exporter": "python",
   "pygments_lexer": "ipython3",
   "version": "3.7.7"
  }
 },
 "nbformat": 4,
 "nbformat_minor": 5
}
