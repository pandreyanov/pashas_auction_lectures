{
 "cells": [
  {
   "cell_type": "markdown",
   "metadata": {
    "tags": []
   },
   "source": [
    "# Linear score\n",
    "\n",
    "## A simple model\n",
    "\n",
    "We start with a simplest model where quality is exogenous.\n",
    "\n",
    ":::{admonition} Model\n",
    ":class: important\n",
    "- quality is exogenous and verifiable\n",
    "- there are $n$ ex-ante identical firms\n",
    "- each firm maximizes her expected utility $(b-c) \\cdot P(win|b, q)$\n",
    "- there is a joint distribution of firms costs and quality $F(c, q)$\n",
    "- the mechanism is a first-score auction\n",
    "- the score is linear $s = \\alpha q + (r - b)$\n",
    ":::\n",
    "\n",
    "We wish to characterize a symmetric Bayes-Nash equilibrium, that is, our answer should be an equilibrium bidding strategy $\\beta(c, q)$."
   ]
  },
  {
   "cell_type": "code",
   "execution_count": null,
   "metadata": {},
   "outputs": [],
   "source": []
  }
 ],
 "metadata": {
  "kernelspec": {
   "display_name": "py37an",
   "language": "python",
   "name": "py37an"
  },
  "language_info": {
   "codemirror_mode": {
    "name": "ipython",
    "version": 3
   },
   "file_extension": ".py",
   "mimetype": "text/x-python",
   "name": "python",
   "nbconvert_exporter": "python",
   "pygments_lexer": "ipython3",
   "version": "3.7.7"
  },
  "toc-showcode": false,
  "toc-showmarkdowntxt": false,
  "toc-showtags": false
 },
 "nbformat": 4,
 "nbformat_minor": 4
}
