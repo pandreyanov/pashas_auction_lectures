{
 "cells": [
  {
   "cell_type": "markdown",
   "metadata": {},
   "source": [
    "# Intro Scoring\n",
    "\n",
    "This chapter studies models devoted to **scoring auctions**, that is, auctions where both price and quality matter. Quality is an abstraction and can take multiple forms such as: experience, preference, social impact, green tech... the nature of it could be different. What matters is that the auctioneer values certain non-monetary outcomes of the auction.\n",
    "\n",
    "In classic auctions, the idea is that the high-value (in value auctions) or the low-cost (in procurement auctions) firm wins. In scoring auctions, the firm with the best combination of monetary and non-monetary characteristics wins.\n",
    "\n",
    "Scoring auctions are quite important in the context of procurement. Military, construction, educational and even catering contracts are typically allocated through some sort of a scoring auctions. And even when they are formally not, it still makes sense to model them as such. Yet, the theory of scoring auctions (as of 2021) is somewhat underdeveloped. \n",
    "\n",
    "## Goals\n",
    "\n",
    "The goal of this chapter is to:\n",
    "1. Introduce a taxonomy of scoring auctions\n",
    "2. Introduce a family of scoring auction models\n",
    "3. Characterize equilibria in these models\n",
    "4. Learn to model and compare auction outcomes\n",
    "\n",
    "## Assets\n",
    "\n",
    "There is a handful of papers on the topic\n",
    "1. [Design Competition Through Multidimensional Auctions, RAND, 1993](https://github.com/pandreyanov/grad_micro_lectures/blob/main/_assets/papers/scoring_auctions/che93.pdf)\n",
    "2. [Properties of scoring auctions, RAND, 2008](https://github.com/pandreyanov/grad_micro_lectures/blob/main/_assets/papers/scoring_auctions/asker08.pdf)\n",
    "3. [Procurement when price and quality matter, RAND, 2010](https://github.com/pandreyanov/grad_micro_lectures/blob/main/_assets/papers/scoring_auctions/asker10.pdf)\n",
    "4. [My dissertation, Chapter 1](https://github.com/pandreyanov/grad_micro_lectures/blob/main/_assets/papers/scoring_auctions/my_diss.pdf)\n",
    "5. [Handbook of Procurement, Chapter 12](https://github.com/pandreyanov/grad_micro_lectures/blob/main/_assets/papers/scoring_auctions/handbook_procurement.pdf)\n",
    "6. [An empirical study of scoring auctions and quality manipulation corruption, EER, 2019](https://github.com/pandreyanov/grad_micro_lectures/blob/main/_assets/papers/scoring_auctions/huang19.pdf)"
   ]
  },
  {
   "cell_type": "code",
   "execution_count": null,
   "metadata": {},
   "outputs": [],
   "source": []
  }
 ],
 "metadata": {
  "kernelspec": {
   "display_name": "py37an",
   "language": "python",
   "name": "py37an"
  },
  "language_info": {
   "codemirror_mode": {
    "name": "ipython",
    "version": 3
   },
   "file_extension": ".py",
   "mimetype": "text/x-python",
   "name": "python",
   "nbconvert_exporter": "python",
   "pygments_lexer": "ipython3",
   "version": "3.7.7"
  }
 },
 "nbformat": 4,
 "nbformat_minor": 4
}
