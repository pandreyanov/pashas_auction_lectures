{
 "cells": [
  {
   "cell_type": "markdown",
   "id": "28cb9b16-a024-40e0-a5ba-cd6c106b5fb0",
   "metadata": {},
   "source": [
    "# Scoring Auctions"
   ]
  },
  {
   "cell_type": "code",
   "execution_count": 1,
   "id": "c52673bb-f800-499d-b984-ec3176c7ff7a",
   "metadata": {},
   "outputs": [],
   "source": [
    "%run publish.py"
   ]
  },
  {
   "cell_type": "markdown",
   "id": "9a398f20-5150-4506-a171-9fc07be235e6",
   "metadata": {},
   "source": [
    "## Intro Scoring\n",
    "\n",
    "This chapter studies models devoted to **scoring auctions**, that is, auctions where both price and quality matter. Quality is an abstraction and can take multiple forms such as: experience, preference, social impact, green tech... the nature of it could be different. What matters is that the auctioneer values certain non-monetary outcomes of the auction.\n",
    "\n",
    "In classic auctions, the idea is that the high-value (in value auctions) or the low-cost (in procurement auctions) firm wins. In scoring auctions, the firm with the best combination of monetary and non-monetary characteristics wins.\n",
    "\n",
    "Scoring auctions are quite important in the context of procurement. Military, construction, educational and even catering contracts are typically allocated through some sort of a scoring auctions. And even when they are formally not, it still makes sense to model them as such. Yet, the theory of scoring auctions (as of 2021) is somewhat underdeveloped. \n",
    "\n",
    "### Goals\n",
    "\n",
    "The goal of this chapter is to:\n",
    "\n",
    "1. Introduce a taxonomy of scoring auctions\n",
    "2. Introduce a family of scoring auction models\n",
    "3. Characterize equilibria in these models\n",
    "4. Learn to model and compare auction outcomes\n",
    "\n",
    "### Assets\n",
    "\n",
    "There is a handful of papers on the topic\n",
    "\n",
    "1. [Design Competition Through Multidimensional Auctions, RAND, 1993](https://github.com/pandreyanov/grad_micro_lectures/blob/main/_assets/papers/scoring_auctions/che93.pdf)\n",
    "2. [Properties of scoring auctions, RAND, 2008](https://github.com/pandreyanov/grad_micro_lectures/blob/main/_assets/papers/scoring_auctions/asker08.pdf)\n",
    "3. [Procurement when price and quality matter, RAND, 2010](https://github.com/pandreyanov/grad_micro_lectures/blob/main/_assets/papers/scoring_auctions/asker10.pdf)\n",
    "4. [My dissertation, Chapter 1](https://github.com/pandreyanov/grad_micro_lectures/blob/main/_assets/papers/scoring_auctions/my_diss.pdf)\n",
    "5. [Handbook of Procurement, Chapter 12](https://github.com/pandreyanov/grad_micro_lectures/blob/main/_assets/papers/scoring_auctions/handbook_procurement.pdf)\n",
    "6. [An empirical study of scoring auctions and quality manipulation corruption, EER, 2019](https://github.com/pandreyanov/grad_micro_lectures/blob/main/_assets/papers/scoring_auctions/huang19.pdf)"
   ]
  },
  {
   "cell_type": "markdown",
   "id": "34e27b8e-4287-4998-82f0-c8959866f757",
   "metadata": {
    "tags": []
   },
   "source": [
    "## General Ideas"
   ]
  },
  {
   "cell_type": "markdown",
   "id": "a5f2c76e-ce7c-44b9-bae9-811b163252ee",
   "metadata": {
    "tags": []
   },
   "source": [
    "### Scoring rules\n",
    "\n",
    "We start with a loose definition of a scoring auction in a procurement environment\n",
    "\n",
    "!!! warning \"Definition\"\n",
    "\n",
    "    A **scoring auction** is an auction where the winner is determined not by the strongest bid, but by the strongest  **score** - a function of bid and certain quality characteristics. A function that compiles bid and quality into a score is called a **scoring rule**.\n",
    "\n",
    "??? quote \"Read from Handbook of Procurement\"\n",
    "\n",
    "    When quality is a crucial component of a procurement contract and flexibility is needed to handle the trade-off between price and quality, scoring mechanisms are particularly appropriate. Should this be the case, pro-curement contracts for goods and services are awarded taking into accountsome non-price attributes that include various measures of quality... For instance, in the procurement of personal computers, hard disks, screen dimension, weight, etc., are valuable technical aspects for end-users, and the buyer is likely to take them into account in the design of the procurement strategy\n",
    "\n",
    "A scoring rule can take one of the following forms\n",
    "\n",
    "1. **linear** score $s = \\alpha q + d$\n",
    "2. **quality-to-price ratio** $s = q/b$\n",
    "3. multiplicative score $s = q d$\n",
    "4. log-linear score $s = q^{\\alpha} d$\n",
    "5. **interdependent** scores like $s = \\alpha q/q_{max} + d$ and many others\n",
    "\n",
    "where $r$ is the **reserve price**, sometimes referred to as *starting price* or *maximal price*, and $d = r - b$ is the **discount**, and $d/r$ is the **percentage discount**.\n",
    "\n",
    "!!! note\n",
    "\n",
    "    Scoring rules are defined up to a monotone transformation, so \n",
    "\n",
    "    $$s = - b/q, \\quad s = q/b, \\quad s = \\log q - \\log b$$ \n",
    "\n",
    "    are the same scoring rule really.\n",
    "\n",
    "What we refer to as **quality** is also often multi-dimensional, in which case we interpret $q$ as a *quality index* - typically a weighted average of multiple quality characteristics. To grasp what a typical data generated by a scoring auction could look like, consider a simulation below:"
   ]
  },
  {
   "cell_type": "code",
   "execution_count": 2,
   "id": "a2969498-907f-42dd-bbfa-bc47ec190ebc",
   "metadata": {},
   "outputs": [
    {
     "name": "stdout",
     "output_type": "stream",
     "text": [
      "+----+----------+---------+----------+-----------+--------+-----------+---------+\n",
      "|    |   q-year |   q-exp |   q-prop |   q-index |    bid |   reserve |   score |\n",
      "+====+==========+=========+==========+===========+========+===========+=========+\n",
      "|  0 |        8 |      53 |       22 |     0.433 | 383.26 |   1599.63 |    0.66 |\n",
      "+----+----------+---------+----------+-----------+--------+-----------+---------+\n",
      "|  1 |        6 |      69 |       28 |     0.517 | 476.85 |   1474.39 |    0.63 |\n",
      "+----+----------+---------+----------+-----------+--------+-----------+---------+\n",
      "|  2 |        3 |      22 |        1 |     0.144 | 260.92 |   1935.43 |    0.65 |\n",
      "+----+----------+---------+----------+-----------+--------+-----------+---------+\n",
      "|  3 |        1 |      65 |       41 |     0.499 | 503.08 |   1392.12 |    0.6  |\n",
      "+----+----------+---------+----------+-----------+--------+-----------+---------+\n",
      "|  4 |        7 |      78 |       92 |     0.828 | 925.52 |   1928.08 |    0.61 |\n",
      "+----+----------+---------+----------+-----------+--------+-----------+---------+\n"
     ]
    }
   ],
   "source": [
    "columns = ['q-year', 'q-exp', 'q-prop', \n",
    "           'q-index', 'bid', 'reserve', 'score']\n",
    "\n",
    "size = 1000\n",
    "\n",
    "y = np.random.randint(1,10,size)\n",
    "e = np.random.randint(0,100,size)\n",
    "p = np.random.randint(0,100,size)\n",
    "q = .1*y/10 + .5*e/100 + .4*p/100\n",
    "b = np.maximum(100, np.round(1000*q + 100*np.random.normal(0,1,size), 2))\n",
    "r = np.round(np.ones(size)*np.max(b) + np.random.uniform(0, 1000, size), 2)\n",
    "s = np.round(.3*q + .7*(r-b)/r, 2)\n",
    "\n",
    "df = pd.DataFrame(np.vstack((y,e,p,q,b,r,s)).T, columns = columns)\n",
    "\n",
    "publish(df.head())"
   ]
  },
  {
   "cell_type": "markdown",
   "id": "022f9e74-e4ee-43be-828b-1440093add76",
   "metadata": {},
   "source": [
    "In the table above we have three underlying quality characteristics: *q_year* (years in the market), *q_exp* (experience), *q_prop* (proposition), that are weighted into a single quality index *q_index*. This index is then weighted against the discount, which is not present in the table explicitly. Note that you do not need to have access to all of the variables, some of them are clearly linearly dependent. Alternatively, you might not know the scoring rule, in which case you have to guess it from the data.\n",
    "\n",
    "Let's see how our simulated data is distributed:"
   ]
  },
  {
   "cell_type": "code",
   "execution_count": null,
   "id": "8fcf1ef1-c136-44e0-beb0-6d7a797a4620",
   "metadata": {},
   "outputs": [],
   "source": [
    "fig, (ax1, ax2) = plt.subplots(2,1)\n",
    "\n",
    "df['percentage discount'] = (df.reserve - df.bid)/df.reserve\n",
    "\n",
    "sb.scatterplot(x = 'percentage discount', y = 'q-index', data = df, ax = ax1, **options_scatter);\n",
    "sb.histplot(df.score, ax = ax2, **options_hist);\n",
    "\n",
    "publish(fig)"
   ]
  },
  {
   "cell_type": "markdown",
   "id": "f9166199-fe54-49f3-acbf-adb14c3d065f",
   "metadata": {},
   "source": [
    "It is natural to expect that quality and discount should be negatively correlated as higher quality is associated with higher costs. However, in practice, the correlation can be actually positive due to strategic reasons (non-monotonicity of monopoly price in demand).\n",
    "\n",
    "!!! danger\n",
    "\n",
    "    The theory of **interdependent scoring rules** is very difficult."
   ]
  },
  {
   "cell_type": "markdown",
   "id": "fa53d67d-cafd-4b1e-8df4-96f124c71ab6",
   "metadata": {
    "tags": []
   },
   "source": [
    "### Nature of quality\n",
    "\n",
    "The quality characteristics can be of different nature. For example, some of them could be completely **exogenous**, like the number of years firm has been operating on the market. These are ojective characteristics of the firm and can not be changed. An example of **endogenous** quality is when the firm submits the number of days needed to complete a certain construction project. The firm has complete freedom to claim any number of days: 30, 100, 300... but her associated costs would probably be higher as well. It is not always possible to say with complete certainty whether quality is exogenous or endogenous.\n",
    "\n",
    "Another problem is that quality is not always completely objective and therefore is subject to **manipulation** (i.e. corruption), see, for example, [An empirical study of scoring auctions and quality manipulation corruption, EER, 2019](https://github.com/pandreyanov/grad_micro_lectures/blob/main/_assets/papers/scoring_auctions/huang19.pdf). When the risk of manipulation is low, it is possible to not commit to any particular evaluation criteria, or announce the criteria afted the proposals were submitted, so that the buyer has the last word. When the risk of manipulation is high, it makes more sense to commit to  strict and standardized evaluation criteria.\n",
    "\n",
    "??? quote \"Read from Handbook of Procurement\"\n",
    "\n",
    "    Detailed ex-ante specifications increase the predictability of procurement competition, minimizing risks of discretionary behaviour and abuses of the evaluating committee (e.g., corruption). This comes at the cost of losing some flexibility. Therefore, the buyer should carefully evaluate and compare case by case costs and benefits of both flexibility and predictability. When corruption is not a particular concern and participants can offer different valuable solutions for the good or service to be procured, it is more likely that benefits from flexibility prevail. In this case, there can be much to gain from ex-post evaluation. In contrast, if corruption during the evaluation process is a concern, ex-post flexibility should be minimized either by adopting an ex-ante BME (automatic scoring) or, in case this were not possible, by reducing the weight given to technical attributes.\n",
    "\n",
    "Yet another problem is that certain quality characteristics and highly endogenous, but the associated costs are **sunk costs**, that is, they are incurred independently of the fact whether the firm wins the auction or not. Most of the time we would like the costs to be not sunk, that is, if the firm loses the auction, she can recover most of her investments. An exception is costs associated with mechanically filing the application. Since they do not vary across the firms, these are called **entry costs**.\n",
    "\n",
    "!!! danger\n",
    "\n",
    "    The theory of scoring auctions with **sunk costs**, other than **entry costs**, is very difficult.\n",
    "\n",
    "As an exercise, speculate, where do these quality characteristics:\n",
    "\n",
    "- number of contracts in the past\n",
    "- access to special equipment (crane)\n",
    "- access to skilled labor (architect)\n",
    "- design blueprints (fighter jet, nuclear plant, bridge)\n",
    "- design prototype (same)\n",
    "\n",
    "belong on the spectrum between exogenous and endogenous, sunk and manipulable."
   ]
  },
  {
   "cell_type": "markdown",
   "id": "da38a2b4-3b4c-4ecc-97dc-51b6ae89ded6",
   "metadata": {
    "tags": []
   },
   "source": [
    "## Simple models\n",
    "\n",
    "### Linear score\n",
    "\n",
    "We start with a simplest model where quality is exogenous.\n",
    "\n",
    "!!! warning \"Model summary\"\n",
    "\n",
    "    - quality is exogenous and verifiable\n",
    "    - there are $n$ ex-ante identical firms\n",
    "    - each firm maximizes her expected utility $(b-c) \\cdot P(win|b, q)$\n",
    "    - there is a joint distribution of firms costs and quality $F(c, q)$\n",
    "    - the mechanism is a first-score auction\n",
    "    - the score is linear $s = \\alpha q + (r - b)$\n",
    "\n",
    "We wish to characterize a symmetric Bayes-Nash equilibrium, that is, our answer should be an equilibrium bidding strategy $\\beta(c, q)$."
   ]
  },
  {
   "cell_type": "markdown",
   "id": "0dbd9a96-541c-4bd4-8d95-fa2a076705d0",
   "metadata": {},
   "source": [
    "# Compilation code"
   ]
  },
  {
   "cell_type": "code",
   "execution_count": null,
   "id": "8134faf0-5a85-4ec5-b6b8-6782996c847c",
   "metadata": {},
   "outputs": [],
   "source": [
    "%%capture\n",
    "%%bash\n",
    "cd ../; jupyter nbconvert --to markdown docs/*.ipynb; mkdocs build; mkdocs gh-deploy"
   ]
  }
 ],
 "metadata": {
  "kernelspec": {
   "display_name": "py37an",
   "language": "python",
   "name": "py37an"
  },
  "language_info": {
   "codemirror_mode": {
    "name": "ipython",
    "version": 3
   },
   "file_extension": ".py",
   "mimetype": "text/x-python",
   "name": "python",
   "nbconvert_exporter": "python",
   "pygments_lexer": "ipython3",
   "version": "3.7.7"
  }
 },
 "nbformat": 4,
 "nbformat_minor": 5
}
